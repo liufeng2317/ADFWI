{
 "cells": [
  {
   "cell_type": "code",
   "execution_count": 1,
   "metadata": {},
   "outputs": [],
   "source": [
    "import numpy as np\n",
    "import torch\n",
    "import matplotlib.pyplot as plt\n",
    "from scipy import integrate\n",
    "import sys\n",
    "import os\n",
    "import ADFWI\n",
    "from ADFWI.propagator  import *\n",
    "from ADFWI.model       import *\n",
    "from ADFWI.view        import *\n",
    "from ADFWI.utils       import *\n",
    "from ADFWI.survey      import *\n",
    "\n",
    "project_path = \"/ailab/user/liufeng1/project/04_Inversion/ADFWI-github/examples/pip_usage/data/acoustic\"\n",
    "if not os.path.exists(os.path.join(project_path,\"model\")):\n",
    "    os.makedirs(os.path.join(project_path,\"model\"))\n",
    "if not os.path.exists(os.path.join(project_path,\"waveform\")):\n",
    "    os.makedirs(os.path.join(project_path,\"waveform\"))\n",
    "if not os.path.exists(os.path.join(project_path,\"survey\")):\n",
    "    os.makedirs(os.path.join(project_path,\"survey\"))"
   ]
  },
  {
   "cell_type": "code",
   "execution_count": 2,
   "metadata": {},
   "outputs": [],
   "source": [
    "device = \"cuda:0\"         # Specify the GPU device\n",
    "dtype = torch.float32     # Set data type to 32-bit floating point\n",
    "ox, oz = 0, 0             # Origin coordinates for x and z directions\n",
    "nz, nx = 88, 200          # Grid dimensions in z and x directions\n",
    "dx, dz = 40, 40           # Grid spacing in x and z directions\n",
    "nt, dt = 1600, 0.003      # Time steps and time interval\n",
    "nabc = 30                 # Thickness of the absorbing boundary layer\n",
    "f0 = 5                    # Initial frequency in Hz\n",
    "free_surface = True       # Enable free surface boundary condition\n"
   ]
  },
  {
   "cell_type": "code",
   "execution_count": null,
   "metadata": {},
   "outputs": [],
   "source": [
    "# Load the Marmousi model dataset\n",
    "marmousi_model = load_marmousi_model(in_dir=\"/ailab/user/liufeng1/project/04_Inversion/ADFWI-github/examples/datasets/marmousi2_source\")\n",
    "\n",
    "# Resample the Marmousi model for the defined coordinates\n",
    "x = np.linspace(5000, 5000 + dx * nx, nx)\n",
    "z = np.linspace(0, dz * nz, nz)\n",
    "vel_model = resample_marmousi_model(x, z, marmousi_model)\n",
    "\n",
    "# Extract and transpose the primary wave velocity (vp)\n",
    "vp = vel_model['vp'].T\n",
    "\n",
    "# Calculate density (rho) based on velocity\n",
    "rho = np.power(vp, 0.25) * 310\n",
    "\n",
    "# Initialize the AcousticModel with parameters and properties\n",
    "model = AcousticModel(ox, oz, nx, nz, dx, dz,\n",
    "                      vp, rho,\n",
    "                      vp_grad=False,\n",
    "                      free_surface=free_surface,\n",
    "                      abc_type=\"PML\",\n",
    "                      abc_jerjan_alpha=0.007,\n",
    "                      nabc=nabc,\n",
    "                      device=device,\n",
    "                      dtype=dtype)\n",
    "\n",
    "# Save the model to a file\n",
    "model.save(os.path.join(project_path, \"model/true_model.npz\"))\n",
    "\n",
    "# Print the model representation\n",
    "print(model.__repr__())"
   ]
  },
  {
   "cell_type": "code",
   "execution_count": null,
   "metadata": {},
   "outputs": [],
   "source": [
    "# Plot the primary wave velocity (vp) and density (rho) of the model\n",
    "model._plot_vp_rho(figsize=(12,5),wspace=0.15,cbar_pad_fraction=-0.05,cmap='coolwarm',save_path=os.path.join(project_path,\"model/true_vp_rho.png\"))"
   ]
  },
  {
   "cell_type": "markdown",
   "metadata": {},
   "source": [
    "## Define the observed System： Survey = Source + Receiver"
   ]
  },
  {
   "cell_type": "code",
   "execution_count": 5,
   "metadata": {},
   "outputs": [],
   "source": [
    "# Define source positions in the model\n",
    "src_z = np.array([1 for i in range(2, nx-1, 5)])  # Z-coordinates for sources\n",
    "src_x = np.array([i for i in range(2, nx-1, 5)])  # X-coordinates for sources\n",
    "\n",
    "# Generate wavelet for the source\n",
    "src_t, src_v = wavelet(nt, dt, f0, amp0=1)  # Create time and wavelet amplitude\n",
    "src_v = integrate.cumtrapz(src_v, axis=-1, initial=0)  # Integrate wavelet to get velocity\n",
    "\n",
    "source = Source(nt=nt, dt=dt, f0=f0)  # Initialize source object\n",
    "\n",
    "# Method 1: Add multiple sources at once (commented out)\n",
    "# source.add_sources(src_x=src_x, src_z=src_z, src_wavelet=src_v, src_type='mt', src_mt=np.array([[1,0,0],[0,1,0],[0,0,1]]))\n",
    "\n",
    "# Method 2: Loop through each source position to add them individually\n",
    "for i in range(len(src_x)):\n",
    "    source.add_source(src_x=src_x[i], src_z=src_z[i], src_wavelet=src_v, src_type=\"mt\", src_mt=np.array([[1,0,0],[0,1,0],[0,0,1]]))\n"
   ]
  },
  {
   "cell_type": "code",
   "execution_count": 6,
   "metadata": {},
   "outputs": [],
   "source": [
    "# Define receiver positions in the model\n",
    "rcv_z = np.array([1 for i in range(0, nx, 1)])  # Z-coordinates for receivers\n",
    "rcv_x = np.array([j for j in range(0, nx, 1)])  # X-coordinates for receivers\n",
    "\n",
    "receiver = Receiver(nt=nt, dt=dt)  # Initialize receiver object\n",
    "\n",
    "# Method 1: Add all receivers at once (commented out)\n",
    "# receiver.add_receivers(rcv_x=rcv_x, rcv_z=rcv_z, rcv_type='pr')\n",
    "\n",
    "# Method 2: Loop through each receiver position to add them individually\n",
    "for i in range(len(rcv_x)):\n",
    "    receiver.add_receiver(rcv_x=rcv_x[i], rcv_z=rcv_z[i], rcv_type=\"pr\")"
   ]
  },
  {
   "cell_type": "code",
   "execution_count": null,
   "metadata": {},
   "outputs": [],
   "source": [
    "# Create a survey object using the defined source and receiver\n",
    "survey = Survey(source=source, receiver=receiver)\n",
    "\n",
    "# Print a representation of the survey object to check its configuration\n",
    "print(survey.__repr__())"
   ]
  },
  {
   "cell_type": "code",
   "execution_count": null,
   "metadata": {},
   "outputs": [],
   "source": [
    "# Plot the wavelet used in the source\n",
    "source.plot_wavelet(save_path=os.path.join(project_path, \"survey/wavelets.png\"))"
   ]
  },
  {
   "cell_type": "code",
   "execution_count": null,
   "metadata": {},
   "outputs": [],
   "source": [
    "# Plot the survey configuration over the velocity model\n",
    "survey.plot(model.vp, cmap='coolwarm', save_path=os.path.join(project_path, \"survey/observed_system.png\"))"
   ]
  },
  {
   "cell_type": "markdown",
   "metadata": {},
   "source": [
    "## Define the propagator & Forward Modeling"
   ]
  },
  {
   "cell_type": "code",
   "execution_count": 10,
   "metadata": {},
   "outputs": [],
   "source": [
    "# Initialize the wave propagator using the specified model and survey configuration\n",
    "F = AcousticPropagator(model, survey, device=device)"
   ]
  },
  {
   "cell_type": "code",
   "execution_count": null,
   "metadata": {},
   "outputs": [],
   "source": [
    "# Retrieve the damping array from the propagator and plot it to visualize boundary conditions\n",
    "damp = F.damp\n",
    "plot_damp(damp, save_path=os.path.join(project_path, \"model/boundary_condition.png\"))"
   ]
  },
  {
   "cell_type": "code",
   "execution_count": 12,
   "metadata": {},
   "outputs": [],
   "source": [
    "# Perform the forward propagation to record waveforms\n",
    "record_waveform = F.forward()\n",
    "\n",
    "# Extract recorded pressure wavefield and particle velocities\n",
    "rcv_p = record_waveform[\"p\"]  # Recorded pressure wavefield\n",
    "rcv_u = record_waveform[\"u\"]  # Recorded particle velocity in x-direction\n",
    "rcv_w = record_waveform[\"w\"]  # Recorded particle velocity in z-direction\n",
    "\n",
    "# Extract forward wavefields for analysis\n",
    "forward_wavefield_p = record_waveform[\"forward_wavefield_p\"]  # Forward pressure wavefield\n",
    "forward_wavefield_u = record_waveform[\"forward_wavefield_u\"]  # Forward particle velocity wavefield in x\n",
    "forward_wavefield_w = record_waveform[\"forward_wavefield_w\"]  # Forward particle velocity wavefield in z"
   ]
  },
  {
   "cell_type": "code",
   "execution_count": 13,
   "metadata": {},
   "outputs": [],
   "source": [
    "# Create a SeismicData object to store observed data from the survey\n",
    "d_obs = SeismicData(survey)\n",
    "\n",
    "# Record the waveform data into the SeismicData object\n",
    "d_obs.record_data(record_waveform)\n",
    "\n",
    "# Save the recorded data to a specified file\n",
    "d_obs.save(os.path.join(project_path, \"waveform/obs_data.npz\"))"
   ]
  },
  {
   "cell_type": "markdown",
   "metadata": {},
   "source": [
    "## Visulization the Synthetic Waveform"
   ]
  },
  {
   "cell_type": "code",
   "execution_count": null,
   "metadata": {},
   "outputs": [],
   "source": [
    "normalize = False  # Set normalization for waveform plotting\n",
    "\n",
    "# Loop over shots to plot the observed waveforms\n",
    "for i_shot in range(1):  # Currently set to plot only the first shot\n",
    "    show = (i_shot == 0)  # Show the plot only for the first shot\n",
    "\n",
    "    # Plot 2D waveform for the specified shot\n",
    "    d_obs.plot_waveform2D(\n",
    "        i_shot=i_shot,\n",
    "        rcv_type=\"pressure\",\n",
    "        acoustic_or_elastic=\"acoustic\",\n",
    "        normalize=normalize,\n",
    "        figsize=(6, 6),\n",
    "        cmap='coolwarm',\n",
    "        save_path=os.path.join(project_path, f\"waveform/obs_2D_shot_{i_shot}.png\"),\n",
    "        show=show\n",
    "    )\n",
    "\n",
    "    # Plot wiggle representation of the waveform for the specified shot\n",
    "    d_obs.plot_waveform_wiggle(\n",
    "        i_shot=i_shot,\n",
    "        rcv_type=\"pressure\",\n",
    "        acoustic_or_elastic=\"acoustic\",\n",
    "        normalize=normalize,\n",
    "        save_path=os.path.join(project_path, f\"waveform/obs_wiggle_shot_{i_shot}.png\"),\n",
    "        show=show\n",
    "    )"
   ]
  },
  {
   "cell_type": "code",
   "execution_count": null,
   "metadata": {},
   "outputs": [],
   "source": [
    "# Plot the waveform trace for a specific shot and trace index\n",
    "d_obs.plot_waveform_trace(\n",
    "    i_shot=0,  # Index of the shot to plot (first shot)\n",
    "    i_trace=10,  # Index of the trace to plot (10th trace)\n",
    "    normalize=True  # Normalize the waveform for better visualization\n",
    ")"
   ]
  },
  {
   "cell_type": "code",
   "execution_count": null,
   "metadata": {},
   "outputs": [],
   "source": []
  }
 ],
 "metadata": {
  "kernelspec": {
   "display_name": "Python 3",
   "language": "python",
   "name": "python3"
  },
  "language_info": {
   "codemirror_mode": {
    "name": "ipython",
    "version": 3
   },
   "file_extension": ".py",
   "mimetype": "text/x-python",
   "name": "python",
   "nbconvert_exporter": "python",
   "pygments_lexer": "ipython3",
   "version": "3.8.20"
  }
 },
 "nbformat": 4,
 "nbformat_minor": 2
}
