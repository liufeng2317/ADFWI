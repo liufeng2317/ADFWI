{
 "cells": [
  {
   "cell_type": "markdown",
   "metadata": {},
   "source": [
    "## Import packages"
   ]
  },
  {
   "cell_type": "code",
   "execution_count": 1,
   "metadata": {},
   "outputs": [],
   "source": [
    "import numpy as np\n",
    "import torch\n",
    "import matplotlib.pyplot as plt\n",
    "from scipy import integrate\n",
    "import sys\n",
    "import os\n",
    "sys.path.append(\"../../../../\")\n",
    "from ADFWI.propagator  import *\n",
    "from ADFWI.model       import *\n",
    "from ADFWI.view        import *\n",
    "from ADFWI.utils       import *\n",
    "from ADFWI.survey      import *\n",
    "from ADFWI.fwi         import *\n",
    "\n",
    "\n",
    "project_path = \"./examples/pip_usage/data/elastic\"\n",
    "if not os.path.exists(os.path.join(project_path,\"model\")):\n",
    "    os.makedirs(os.path.join(project_path,\"model\"))\n",
    "if not os.path.exists(os.path.join(project_path,\"waveform\")):\n",
    "    os.makedirs(os.path.join(project_path,\"waveform\"))\n",
    "if not os.path.exists(os.path.join(project_path,\"survey\")):\n",
    "    os.makedirs(os.path.join(project_path,\"survey\"))\n",
    "if not os.path.exists(os.path.join(project_path,\"inversion\")):\n",
    "    os.makedirs(os.path.join(project_path,\"inversion\"))"
   ]
  },
  {
   "attachments": {},
   "cell_type": "markdown",
   "metadata": {},
   "source": [
    "## Define the basic model parameter"
   ]
  },
  {
   "cell_type": "code",
   "execution_count": 2,
   "metadata": {},
   "outputs": [],
   "source": [
    "device = \"cuda:1\"\n",
    "dtype  = torch.float32\n",
    "ox,oz  = 0,0\n",
    "nz,nx  = 78,180\n",
    "dx,dz  = 45, 45\n",
    "nt,dt  = 1600, 0.003\n",
    "nabc   = 50\n",
    "f0     = 3\n",
    "free_surface = True"
   ]
  },
  {
   "attachments": {},
   "cell_type": "markdown",
   "metadata": {},
   "source": [
    "## Define the initial velocity model"
   ]
  },
  {
   "cell_type": "code",
   "execution_count": null,
   "metadata": {},
   "outputs": [],
   "source": [
    "# Load the Marmousi model dataset from the specified directory.\n",
    "marmousi_model = load_marmousi_model(in_dir=\"/ailab/user/liufeng1/project/04_Inversion/ADFWI-github/examples/datasets/marmousi2_source\")\n",
    "x         = np.linspace(5000, 5000+dx*nx, nx)\n",
    "z         = np.linspace(0, dz*nz, nz)\n",
    "vel_model = resample_marmousi_model(x, z, marmousi_model)\n",
    "vp_true   = vel_model['vp'].T\n",
    "vs_true   = vel_model['vs'].T\n",
    "rho_true  = np.power(vp_true, 0.25) * 310\n",
    "\n",
    "smooth_model= get_smooth_marmousi_model(vel_model,gaussian_kernel=4,mask_extra_detph=2)\n",
    "vp_init     = smooth_model['vp'].T\n",
    "vs_init     = smooth_model['vs'].T\n",
    "rho_init    = np.power(vp_init, 0.25) * 310\n",
    "\n",
    "model = IsotropicElasticModel(\n",
    "                ox,oz,nx,nz,dx,dz,\n",
    "                vp_init,vs_init,rho_init,\n",
    "                vp_bound=[vp_true.min(),vp_true.max()],\n",
    "                vs_bound=[vs_true.min(),vs_true.max()],\n",
    "                vp_grad = True,vs_grad = True, \n",
    "                free_surface=free_surface,\n",
    "                abc_type=\"PML\",abc_jerjan_alpha=0.007,\n",
    "                nabc=nabc,\n",
    "                device=device,dtype=dtype)\n",
    "\n",
    "model.save(os.path.join(project_path,\"model/init_model.npz\"))\n",
    "print(model.__repr__())"
   ]
  },
  {
   "cell_type": "code",
   "execution_count": null,
   "metadata": {},
   "outputs": [],
   "source": [
    "model._plot_vp_vs_rho(figsize=(12,5),wspace=0.2,cbar_pad_fraction=0.18,cbar_height=0.04,cmap='coolwarm',save_path=os.path.join(project_path,\"model/init_vp_vs_rho.png\"),show=True)"
   ]
  },
  {
   "attachments": {},
   "cell_type": "markdown",
   "metadata": {},
   "source": [
    "## Define the observed systems: Survey = Source + Receiver"
   ]
  },
  {
   "cell_type": "code",
   "execution_count": 5,
   "metadata": {},
   "outputs": [],
   "source": [
    "# source    \n",
    "src_z = np.array([10   for i in range(2,nx-2,5)]) \n",
    "src_x = np.array([i    for i in range(2,nx-2,5)])\n",
    "src_t,src_v = wavelet(nt,dt,f0,amp0=1)\n",
    "src_v = integrate.cumtrapz(src_v, axis=-1, initial=0) #Integrate\n",
    "source = Source(nt=nt,dt=dt,f0=f0)\n",
    "for i in range(len(src_x)):\n",
    "    source.add_source(src_x=src_x[i],src_z=src_z[i],src_wavelet=src_v,src_type=\"mt\",src_mt=np.array([[1,0,0],[0,1,0],[0,0,1]]))"
   ]
  },
  {
   "cell_type": "code",
   "execution_count": 6,
   "metadata": {},
   "outputs": [],
   "source": [
    "# receiver\n",
    "rcv_z = np.array([10  for i in range(0,nx,1)])\n",
    "rcv_x = np.array([j   for j in range(0,nx,1)])\n",
    "receiver = Receiver(nt=nt,dt=dt)\n",
    "for i in range(len(rcv_x)):\n",
    "    receiver.add_receiver(rcv_x=rcv_x[i], rcv_z=rcv_z[i], rcv_type=\"pr\")\n",
    "# survey\n",
    "survey = Survey(source=source,receiver=receiver)"
   ]
  },
  {
   "cell_type": "code",
   "execution_count": null,
   "metadata": {},
   "outputs": [],
   "source": [
    "print(survey.__repr__())\n",
    "survey.plot(model.vp,cmap='coolwarm',save_path=os.path.join(project_path,\"survey/observed_system_init.png\"),show=True)"
   ]
  },
  {
   "cell_type": "code",
   "execution_count": null,
   "metadata": {},
   "outputs": [],
   "source": [
    "# Plot the wavelet used in the source\n",
    "source.plot_wavelet(save_path=os.path.join(project_path,\"survey/wavelets.png\"),show=True)"
   ]
  },
  {
   "cell_type": "code",
   "execution_count": null,
   "metadata": {},
   "outputs": [],
   "source": [
    "# Plot the survey configuration over the velocity model\n",
    "survey.plot(model.vp,cmap='coolwarm',save_path=os.path.join(project_path,\"survey/observed_system_init.png\"))"
   ]
  },
  {
   "attachments": {},
   "cell_type": "markdown",
   "metadata": {},
   "source": [
    "## Define the propagator"
   ]
  },
  {
   "cell_type": "code",
   "execution_count": 10,
   "metadata": {},
   "outputs": [],
   "source": [
    "# Initialize the wave propagator using the specified model and survey configuration\n",
    "F = ElasticPropagator(model,survey,device=device)"
   ]
  },
  {
   "cell_type": "code",
   "execution_count": 11,
   "metadata": {},
   "outputs": [],
   "source": [
    "# Retrieve the damping array from the propagator and plot it to visualize boundary conditions\n",
    "if model.abc_type == \"PML\":\n",
    "    bcx = F.bcx\n",
    "    bcz = F.bcz\n",
    "    title_param = {'family':'Times New Roman','weight':'normal','size': 15}\n",
    "    plot_bcx_bcz(bcx,bcz,dx=dx,dz=dz,wspace=0.25,title_param=title_param,cbar_height=0.04,cbar_pad_fraction=-0.05,save_path=os.path.join(project_path,\"model/boundary_condition_init.png\"),show=False)\n",
    "else:\n",
    "    damp = F.damp\n",
    "    plot_damp(damp)"
   ]
  },
  {
   "attachments": {},
   "cell_type": "markdown",
   "metadata": {},
   "source": [
    "## Load observed datasets"
   ]
  },
  {
   "cell_type": "code",
   "execution_count": null,
   "metadata": {},
   "outputs": [],
   "source": [
    "# load data\n",
    "d_obs = SeismicData(survey)\n",
    "d_obs.load(os.path.join(project_path,\"waveform/obs_data.npz\"))\n",
    "print(d_obs.__repr__())"
   ]
  },
  {
   "attachments": {},
   "cell_type": "markdown",
   "metadata": {},
   "source": [
    "## Inversion"
   ]
  },
  {
   "cell_type": "code",
   "execution_count": null,
   "metadata": {},
   "outputs": [],
   "source": [
    "from ADFWI.fwi.misfit import Misfit_waveform_L2\n",
    "from ADFWI.fwi.regularization import regularization_TV_1order\n",
    "iteration = 200\n",
    "\n",
    "# Set the number of iterations for the inversion process.\n",
    "iteration = 10\n",
    "\n",
    "# optimizer\n",
    "optimizer   =   torch.optim.AdamW(model.parameters(), lr = 10,betas=(0.9,0.999), weight_decay=1e-4)\n",
    "scheduler   =   torch.optim.lr_scheduler.StepLR(optimizer,step_size=100,gamma=0.75,last_epoch=-1)\n",
    "\n",
    "# Setup misfit function\n",
    "loss_fn = Misfit_waveform_L2(dt=dt)\n",
    "regularization_fn = regularization_TV_1order(nx,nz,dx,dz,1e-5,1e-5,step_size=50,gamma=1)\n",
    "\n",
    "# gradient processor\n",
    "grad_mask = np.ones_like(vp_init)\n",
    "grad_mask[:10,:] = 0\n",
    "gradient_processor = GradProcessor(grad_mask=grad_mask)\n",
    "\n",
    "# Initialize the acoustic full waveform inversion (FWI) object.\n",
    "fwi = ElasticFWI(propagator=F,\n",
    "                    model=model,\n",
    "                    optimizer=optimizer,\n",
    "                    scheduler=scheduler,\n",
    "                    loss_fn=loss_fn,\n",
    "                    regularization_fn=regularization_fn,\n",
    "                    obs_data=d_obs,\n",
    "                    gradient_processor=gradient_processor,\n",
    "                    waveform_normalize=True,\n",
    "                    cache_result=True,\n",
    "                    save_fig_epoch=50,\n",
    "                    save_fig_path=os.path.join(project_path,\"inversion\"),\n",
    "                    inversion_component=[\"vx\",\"vz\"]\n",
    "                    )\n",
    "\n",
    "# Run the forward modeling for the specified number of iterations.\n",
    "fwi.forward(iteration=iteration,fd_order=4,\n",
    "                    batch_size=None,checkpoint_segments=2,\n",
    "                    start_iter=0)\n",
    "\n",
    "# Retrieve the inversion results: updated velocity and loss values.\n",
    "iter_vp     = fwi.iter_vp\n",
    "iter_vs     = fwi.iter_vs\n",
    "iter_loss   = fwi.iter_loss\n",
    "\n",
    "# Save the iteration results to files for later analysis.\n",
    "np.savez(os.path.join(project_path,\"inversion/iter_vp.npz\"),data=np.array(iter_vp))\n",
    "np.savez(os.path.join(project_path,\"inversion/iter_vs.npz\"),data=np.array(iter_vs))\n",
    "np.savez(os.path.join(project_path,\"inversion/iter_loss.npz\"),data=np.array(iter_loss))"
   ]
  },
  {
   "cell_type": "markdown",
   "metadata": {},
   "source": [
    "## visualize the inverted results"
   ]
  },
  {
   "cell_type": "code",
   "execution_count": null,
   "metadata": {},
   "outputs": [],
   "source": [
    "# plot the misfit\n",
    "plt.figure(figsize=(8,6))\n",
    "plt.plot(iter_loss,c='k')\n",
    "plt.xlabel(\"Iterations\", fontsize=12)\n",
    "plt.ylabel(\"L2-norm Misfits\", fontsize=12)\n",
    "plt.tick_params(labelsize=12)\n",
    "plt.savefig(os.path.join(project_path,\"inversion/misfit.png\"),bbox_inches='tight',dpi=100)\n",
    "plt.show()"
   ]
  },
  {
   "cell_type": "code",
   "execution_count": null,
   "metadata": {},
   "outputs": [],
   "source": [
    "# plot the initial model and inverted resutls\n",
    "plt.figure(figsize=(12,8))\n",
    "plt.subplot(121)\n",
    "plt.imshow(vp_init,cmap='jet_r')\n",
    "plt.subplot(122)\n",
    "plt.imshow(iter_vp[-1],cmap='jet_r')\n",
    "plt.savefig(os.path.join(project_path,\"inversion/inverted_res.png\"),bbox_inches='tight',dpi=100)\n",
    "plt.show()"
   ]
  },
  {
   "cell_type": "code",
   "execution_count": null,
   "metadata": {},
   "outputs": [],
   "source": [
    "# plot the gradient\n",
    "plt.figure()\n",
    "plt.imshow(fwi.iter_vp_grad[0],cmap='coolwarm')\n",
    "plt.show()"
   ]
  },
  {
   "cell_type": "markdown",
   "metadata": {},
   "source": [
    "### Animation"
   ]
  },
  {
   "cell_type": "code",
   "execution_count": null,
   "metadata": {},
   "outputs": [],
   "source": [
    "import numpy as np\n",
    "import matplotlib.pyplot as plt\n",
    "import matplotlib.animation as animation\n",
    "from IPython.display import HTML\n",
    "\n",
    "# Set up the figure for plotting\n",
    "fig, ax = plt.subplots(figsize=(8, 6))\n",
    "cax = ax.imshow(iter_vp[0], aspect='equal', cmap='jet_r', vmin=vp_true.min(), vmax=vp_true.max())\n",
    "ax.set_title('Inversion Process Visualization')\n",
    "ax.set_xlabel('X Coordinate')\n",
    "ax.set_ylabel('Z Coordinate')\n",
    "\n",
    "# Create a horizontal colorbar\n",
    "cbar = fig.colorbar(cax, ax=ax, orientation='horizontal', fraction=0.046, pad=0.2)\n",
    "cbar.set_label('Velocity (m/s)')\n",
    "\n",
    "# Adjust the layout to minimize white space\n",
    "plt.subplots_adjust(top=0.85, bottom=0.2, left=0.1, right=0.9)\n",
    "\n",
    "# Initialization function\n",
    "def init():\n",
    "    cax.set_array(iter_vp[0])  # Use the 2D array directly\n",
    "    return cax,\n",
    "\n",
    "# Animation function\n",
    "def animate(i):\n",
    "    cax.set_array(iter_vp[i])  # Update with the i-th iteration directly\n",
    "    return cax,\n",
    "\n",
    "# Create the animation\n",
    "ani = animation.FuncAnimation(fig, animate, init_func=init, frames=len(iter_vp), interval=100, blit=True)\n",
    "\n",
    "# Save the animation as a video file (e.g., MP4 format)\n",
    "ani.save(os.path.join(project_path, \"inversion/inversion_process.gif\"), writer='pillow', fps=10)\n",
    "\n",
    "# Display the animation using HTML\n",
    "plt.close(fig)  # Prevents static display of the last frame\n",
    "HTML(ani.to_jshtml())"
   ]
  },
  {
   "cell_type": "code",
   "execution_count": null,
   "metadata": {},
   "outputs": [],
   "source": []
  }
 ],
 "metadata": {
  "kernelspec": {
   "display_name": "ADinversion",
   "language": "python",
   "name": "python3"
  },
  "language_info": {
   "codemirror_mode": {
    "name": "ipython",
    "version": 3
   },
   "file_extension": ".py",
   "mimetype": "text/x-python",
   "name": "python",
   "nbconvert_exporter": "python",
   "pygments_lexer": "ipython3",
   "version": "3.8.20"
  },
  "orig_nbformat": 4,
  "vscode": {
   "interpreter": {
    "hash": "1e52d0fb768956d75c9106cc9d1e4cd93f3049c3ef5ccf93d433f27b0d7ebb6b"
   }
  }
 },
 "nbformat": 4,
 "nbformat_minor": 2
}
