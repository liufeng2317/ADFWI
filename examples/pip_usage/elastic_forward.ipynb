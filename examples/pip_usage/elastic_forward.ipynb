{
 "cells": [
  {
   "cell_type": "markdown",
   "metadata": {},
   "source": [
    "## Import some packages"
   ]
  },
  {
   "cell_type": "code",
   "execution_count": 1,
   "metadata": {},
   "outputs": [],
   "source": [
    "import numpy as np\n",
    "import torch\n",
    "import matplotlib.pyplot as plt\n",
    "from scipy import integrate\n",
    "import sys\n",
    "import os\n",
    "sys.path.append(\"../../../../\")\n",
    "from ADFWI.propagator  import *\n",
    "from ADFWI.model       import *\n",
    "from ADFWI.view        import *\n",
    "from ADFWI.utils       import *\n",
    "from ADFWI.survey      import *\n",
    "\n",
    "project_path = \"./examples/pip_usage/data/elastic\"\n",
    "if not os.path.exists(os.path.join(project_path,\"model\")):\n",
    "    os.makedirs(os.path.join(project_path,\"model\"))\n",
    "if not os.path.exists(os.path.join(project_path,\"waveform\")):\n",
    "    os.makedirs(os.path.join(project_path,\"waveform\"))\n",
    "if not os.path.exists(os.path.join(project_path,\"survey\")):\n",
    "    os.makedirs(os.path.join(project_path,\"survey\"))"
   ]
  },
  {
   "attachments": {},
   "cell_type": "markdown",
   "metadata": {},
   "source": [
    "## Basic Parameter"
   ]
  },
  {
   "cell_type": "code",
   "execution_count": 2,
   "metadata": {},
   "outputs": [],
   "source": [
    "device = \"cuda:1\"         # Specify the GPU device\n",
    "dtype = torch.float32     # Set data type to 32-bit floating point\n",
    "ox, oz = 0, 0             # Origin coordinates for x and z directions\n",
    "nz, nx = 78, 180          # Grid dimensions in z and x directions\n",
    "dx, dz = 45, 45           # Grid spacing in x and z directions\n",
    "nt, dt = 1600, 0.003      # Time steps and time interval\n",
    "nabc = 50                 # Thickness of the absorbing boundary layer\n",
    "f0 = 3                    # Initial frequency in Hz\n",
    "free_surface = True       # Enable free surface boundary condition\n"
   ]
  },
  {
   "attachments": {},
   "cell_type": "markdown",
   "metadata": {},
   "source": [
    "## Define the True Velocity Model"
   ]
  },
  {
   "cell_type": "code",
   "execution_count": null,
   "metadata": {},
   "outputs": [],
   "source": [
    "# Load the Marmousi model dataset\n",
    "marmousi_model = load_marmousi_model(in_dir=\"/ailab/user/liufeng1/project/04_Inversion/ADFWI-github/examples/datasets/marmousi2_source\")\n",
    "x         = np.linspace(5000, 5000+dx*nx, nx)\n",
    "z         = np.linspace(0, dz*nz, nz)\n",
    "vel_model = resample_marmousi_model(x, z, marmousi_model)\n",
    "vp        = vel_model['vp'].T\n",
    "vs        = vel_model['vs'].T\n",
    "rho       = np.power(vp, 0.25) * 310\n",
    "\n",
    "# Initialize the elastic model with parameters and properties\n",
    "model = IsotropicElasticModel(\n",
    "                    ox,oz,nx,nz,dx,dz,\n",
    "                    vp,vs,rho,\n",
    "                    vp_grad = False,vs_grad = False, \n",
    "                    free_surface=free_surface,\n",
    "                    abc_type=\"PML\",abc_jerjan_alpha=0.007,\n",
    "                    auto_update_rho=False,\n",
    "                    auto_update_vp =False,\n",
    "                    nabc=nabc,\n",
    "                    device=device,dtype=dtype)\n",
    "\n",
    "# Save the model to a file\n",
    "model.save(os.path.join(project_path, \"model/true_model.npz\"))\n",
    "\n",
    "# Print the model representation\n",
    "print(model.__repr__())"
   ]
  },
  {
   "cell_type": "code",
   "execution_count": null,
   "metadata": {},
   "outputs": [],
   "source": [
    "# Plot the primary wave velocity (vp) and density (rho) of the model\n",
    "model._plot_vp_vs_rho(figsize=(12,5),wspace=0.2,cbar_pad_fraction=0.18,cbar_height=0.04,cmap='coolwarm',save_path=os.path.join(project_path,\"model/true_vp_vs_rho.png\"))"
   ]
  },
  {
   "attachments": {},
   "cell_type": "markdown",
   "metadata": {},
   "source": [
    "## Define the observed System： Survey = Source + Receiver"
   ]
  },
  {
   "cell_type": "code",
   "execution_count": 5,
   "metadata": {},
   "outputs": [],
   "source": [
    "# Define source positions in the model\n",
    "src_z = np.array([10   for i in range(2,nx-2,5)]) \n",
    "src_x = np.array([i    for i in range(2,nx-2,5)])\n",
    "# Generate wavelet for the source\n",
    "src_t, src_v = wavelet(nt, dt, f0, amp0=1)  # Create time and wavelet amplitude\n",
    "src_v = integrate.cumtrapz(src_v, axis=-1, initial=0)  # Integrate wavelet to get velocity\n",
    "\n",
    "source = Source(nt=nt, dt=dt, f0=f0)  # Initialize source object\n",
    "\n",
    "# Method 1: Add multiple sources at once (commented out)\n",
    "# source.add_sources(src_x=src_x, src_z=src_z, src_wavelet=src_v, src_type='mt', src_mt=np.array([[1,0,0],[0,1,0],[0,0,1]]))\n",
    "\n",
    "# Method 2: Loop through each source position to add them individually\n",
    "for i in range(len(src_x)):\n",
    "    source.add_source(src_x=src_x[i], src_z=src_z[i], src_wavelet=src_v, src_type=\"mt\", src_mt=np.array([[1,0,0],[0,1,0],[0,0,1]]))\n"
   ]
  },
  {
   "cell_type": "code",
   "execution_count": 6,
   "metadata": {},
   "outputs": [],
   "source": [
    "# Define receiver positions in the model\n",
    "rcv_z = np.array([10  for i in range(0,nx,1)])\n",
    "rcv_x = np.array([j   for j in range(0,nx,1)])\n",
    "receiver = Receiver(nt=nt, dt=dt)  # Initialize receiver object\n",
    "\n",
    "# Method 1: Add all receivers at once (commented out)\n",
    "# receiver.add_receivers(rcv_x=rcv_x, rcv_z=rcv_z, rcv_type='pr')\n",
    "\n",
    "# Method 2: Loop through each receiver position to add them individually\n",
    "for i in range(len(rcv_x)):\n",
    "    receiver.add_receiver(rcv_x=rcv_x[i], rcv_z=rcv_z[i], rcv_type=\"pr\")"
   ]
  },
  {
   "cell_type": "code",
   "execution_count": null,
   "metadata": {},
   "outputs": [],
   "source": [
    "# Create a survey object using the defined source and receiver\n",
    "survey = Survey(source=source, receiver=receiver)\n",
    "\n",
    "# Print a representation of the survey object to check its configuration\n",
    "print(survey.__repr__())"
   ]
  },
  {
   "cell_type": "code",
   "execution_count": null,
   "metadata": {},
   "outputs": [],
   "source": [
    "# Plot the wavelet used in the source\n",
    "source.plot_wavelet(save_path=os.path.join(project_path, \"survey/wavelets.png\"))"
   ]
  },
  {
   "cell_type": "code",
   "execution_count": null,
   "metadata": {},
   "outputs": [],
   "source": [
    "# Plot the survey configuration over the velocity model\n",
    "survey.plot(model.vp, cmap='coolwarm', save_path=os.path.join(project_path, \"survey/observed_system.png\"))"
   ]
  },
  {
   "attachments": {},
   "cell_type": "markdown",
   "metadata": {},
   "source": [
    "## Define the propagator & Forward Modeling"
   ]
  },
  {
   "cell_type": "code",
   "execution_count": 10,
   "metadata": {},
   "outputs": [],
   "source": [
    "# Initialize the wave propagator using the specified model and survey configuration\n",
    "F = ElasticPropagator(model,survey,device=device)"
   ]
  },
  {
   "cell_type": "code",
   "execution_count": null,
   "metadata": {},
   "outputs": [],
   "source": [
    "# Retrieve the damping array from the propagator and plot it to visualize boundary conditions\n",
    "if model.abc_type == \"PML\":\n",
    "    bcx = F.bcx\n",
    "    bcz = F.bcz\n",
    "    title_param = {'family':'Times New Roman','weight':'normal','size': 15}\n",
    "    plot_bcx_bcz(bcx,bcz,dx=dx,dz=dz,wspace=0.25,title_param=title_param,cbar_height=0.04,cbar_pad_fraction=-0.05,save_path=os.path.join(project_path,\"model/boundary_condition.png\"))\n",
    "else:\n",
    "    damp = F.damp\n",
    "    plot_damp(damp)"
   ]
  },
  {
   "cell_type": "code",
   "execution_count": 12,
   "metadata": {},
   "outputs": [],
   "source": [
    "# Perform the forward propagation to record waveforms\n",
    "record_waveform = F.forward(fd_order=4)\n",
    "\n",
    "# Extract recorded pressure wavefield and particle velocities\n",
    "rcv_txx = record_waveform[\"txx\"]\n",
    "rcv_tzz = record_waveform[\"tzz\"]\n",
    "rcv_txz = record_waveform[\"txz\"]\n",
    "rcv_vx  = record_waveform[\"vx\"]\n",
    "rcv_vz  = record_waveform[\"vz\"]\n",
    "\n",
    "# Extract forward wavefields for analysis\n",
    "forward_wavefield_txx = record_waveform[\"forward_wavefield_txx\"]\n",
    "forward_wavefield_tzz = record_waveform[\"forward_wavefield_tzz\"]\n",
    "forward_wavefield_txz = record_waveform[\"forward_wavefield_txz\"]\n",
    "forward_wavefield_vx  = record_waveform[\"forward_wavefield_vx\"]\n",
    "forward_wavefield_vz  = record_waveform[\"forward_wavefield_vz\"]"
   ]
  },
  {
   "cell_type": "code",
   "execution_count": 13,
   "metadata": {},
   "outputs": [],
   "source": [
    "# Create a SeismicData object to store observed data from the survey\n",
    "d_obs = SeismicData(survey)\n",
    "\n",
    "# Record the waveform data into the SeismicData object\n",
    "d_obs.record_data(record_waveform)\n",
    "\n",
    "# Save the recorded data to a specified file\n",
    "d_obs.save(os.path.join(project_path, \"waveform/obs_data.npz\"))"
   ]
  },
  {
   "attachments": {},
   "cell_type": "markdown",
   "metadata": {},
   "source": [
    "## Visulization the Synthetic Waveform"
   ]
  },
  {
   "cell_type": "code",
   "execution_count": null,
   "metadata": {},
   "outputs": [],
   "source": [
    "normalize = False  # Set normalization for waveform plotting\n",
    "\n",
    "# Loop over shots to plot the observed waveforms\n",
    "for i_shot in range(1):  # Currently set to plot only the first shot\n",
    "    show = (i_shot == 0)  # Show the plot only for the first shot\n",
    "\n",
    "    # Plot 2D waveform for the specified shot\n",
    "    d_obs.plot_waveform2D(\n",
    "        i_shot=i_shot,\n",
    "        rcv_type=\"pressure\",\n",
    "        acoustic_or_elastic=\"elastic\",\n",
    "        normalize=normalize,\n",
    "        figsize=(6, 6),\n",
    "        cmap='coolwarm',\n",
    "        save_path=os.path.join(project_path, f\"waveform/obs_2D_shot_{i_shot}.png\"),\n",
    "        show=show\n",
    "    )\n",
    "\n",
    "    # Plot wiggle representation of the waveform for the specified shot\n",
    "    d_obs.plot_waveform_wiggle(\n",
    "        i_shot=i_shot,\n",
    "        rcv_type=\"pressure\",\n",
    "        acoustic_or_elastic=\"elastic\",\n",
    "        normalize=normalize,\n",
    "        save_path=os.path.join(project_path, f\"waveform/obs_wiggle_shot_{i_shot}.png\"),\n",
    "        show=show\n",
    "    )"
   ]
  },
  {
   "cell_type": "code",
   "execution_count": null,
   "metadata": {},
   "outputs": [],
   "source": [
    "# Plot the waveform trace for a specific shot and trace index\n",
    "d_obs.plot_waveform_trace(\n",
    "    i_shot=0,  # Index of the shot to plot (first shot)\n",
    "    i_trace=10,  # Index of the trace to plot (10th trace)\n",
    "    acoustic_or_elastic='elastic',\n",
    "    normalize=True  # Normalize the waveform for better visualization\n",
    ")"
   ]
  }
 ],
 "metadata": {
  "kernelspec": {
   "display_name": "ADinversion",
   "language": "python",
   "name": "python3"
  },
  "language_info": {
   "codemirror_mode": {
    "name": "ipython",
    "version": 3
   },
   "file_extension": ".py",
   "mimetype": "text/x-python",
   "name": "python",
   "nbconvert_exporter": "python",
   "pygments_lexer": "ipython3",
   "version": "3.8.20"
  },
  "orig_nbformat": 4,
  "vscode": {
   "interpreter": {
    "hash": "1e52d0fb768956d75c9106cc9d1e4cd93f3049c3ef5ccf93d433f27b0d7ebb6b"
   }
  }
 },
 "nbformat": 4,
 "nbformat_minor": 2
}
